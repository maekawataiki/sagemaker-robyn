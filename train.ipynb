{
 "cells": [
  {
   "cell_type": "markdown",
   "metadata": {},
   "source": [
    "# Robyn Marketing Mix Modeling with Python SageMaker\n",
    "\n",
    "This is sample code to run [Robyn](https://github.com/facebookexperimental/Robyn) Marketing Mix Model library from Python using SageMaker.\n",
    "\n",
    "The main purpose of this sample code is showing how to run encapsulated Robyn docker image in isolated SageMaker runtime and pass data / hyperparameters from python.\n",
    "\n",
    "You basically need to upload data to S3 and run SageMaker Robyn Image as remote procedure and get result in S3.\n",
    "\n",
    "The main Robyn code is in `app/train.R`, but it has minimal change from [Robyn demo code](https://github.com/facebookexperimental/Robyn/blob/main/demo/demo.R), so you still need to modify R code to handle production workload.\n",
    "\n",
    "Tested with SageMaker `2.117.0`."
   ]
  },
  {
   "cell_type": "markdown",
   "metadata": {},
   "source": [
    "## Setup"
   ]
  },
  {
   "cell_type": "code",
   "execution_count": null,
   "metadata": {},
   "outputs": [],
   "source": [
    "import sagemaker\n",
    "import boto3\n",
    "print(sagemaker.__version__)"
   ]
  },
  {
   "cell_type": "code",
   "execution_count": null,
   "metadata": {},
   "outputs": [],
   "source": [
    "boto3_session = boto3.session.Session()\n",
    "sage_session = sagemaker.Session()\n",
    "\n",
    "bucket = sage_session.default_bucket()\n",
    "role_arn = sagemaker.get_execution_role()\n",
    "account_id = sage_session.account_id()\n",
    "region = boto3_session.region_name"
   ]
  },
  {
   "cell_type": "markdown",
   "metadata": {},
   "source": [
    "## Build Docker Image\n",
    "\n",
    "Build docker image to run the SageMaker. Only run this once.\n",
    "\n",
    "Docker image will be built with CodeBuild using `sm-docker`.\n",
    "\n",
    "You need appropriate role to run CodeBuild. Please check [blog](https://aws.amazon.com/jp/blogs/machine-learning/bringing-your-own-custom-container-image-to-amazon-sagemaker-studio-notebooks/) for required permissions."
   ]
  },
  {
   "cell_type": "code",
   "execution_count": null,
   "metadata": {
    "scrolled": true
   },
   "outputs": [],
   "source": [
    "!pip install sagemaker-studio-image-build"
   ]
  },
  {
   "cell_type": "code",
   "execution_count": null,
   "metadata": {},
   "outputs": [],
   "source": [
    "ecr_repository_training = \"sagemaker-robyn\"\n",
    "tag_training = \"latest\"\n",
    "model_name = f\"{ecr_repository_training}:{tag_training}\"\n",
    "model_image_uri = f\"{account_id}.dkr.ecr.{region}.amazonaws.com/{ecr_repository_training}:{tag_training}\""
   ]
  },
  {
   "cell_type": "code",
   "execution_count": null,
   "metadata": {},
   "outputs": [],
   "source": [
    "!sm-docker build ./docker --repository $model_image_uri --compute-type BUILD_GENERAL1_MEDIUM"
   ]
  },
  {
   "cell_type": "markdown",
   "metadata": {},
   "source": [
    "Alternatively, you may clone this repo and run docker build from your local computer or Cloud9."
   ]
  },
  {
   "cell_type": "code",
   "execution_count": null,
   "metadata": {},
   "outputs": [],
   "source": [
    "# !aws ecr get-login-password --region {region} | docker login --username AWS --password-stdin {account_id}.dkr.ecr.{region}.amazonaws.com\n",
    "# !aws ecr describe-repositories --repository-names $ecr_repository_training > /dev/null || aws ecr create-repository --repository-name $ecr_repository_training\n",
    "# !docker build -t {ecr_repository_training}:{tag_training} ./docker > /dev/null\n",
    "# !docker tag {ecr_repository_training}:{tag_training} $model_image_uri\n",
    "# !docker push $model_image_uri > /dev/null"
   ]
  },
  {
   "cell_type": "markdown",
   "metadata": {},
   "source": [
    "## Upload Data to S3 and define training input"
   ]
  },
  {
   "cell_type": "code",
   "execution_count": null,
   "metadata": {},
   "outputs": [],
   "source": [
    "s3_holiday = sage_session.upload_data('data/dt_prophet_holidays.RData')\n",
    "s3_train = sage_session.upload_data('data/dt_simulated_weekly.csv')\n",
    "print(s3_holiday)\n",
    "print(s3_train)"
   ]
  },
  {
   "cell_type": "code",
   "execution_count": null,
   "metadata": {},
   "outputs": [],
   "source": [
    "s3_holiday_input = sagemaker.inputs.TrainingInput(s3_holiday)\n",
    "s3_train_input = sagemaker.inputs.TrainingInput(s3_train)"
   ]
  },
  {
   "cell_type": "markdown",
   "metadata": {},
   "source": [
    "## Train Model\n",
    "\n",
    "Run Robyn in SageMaker Runtime.\n",
    "\n",
    "You can pass data in S3 and hyperparameters from python and get result from S3.\n",
    "\n",
    "You may need to customize `app/train.R` to run production workload. It has minimal change from [Robyn demo code](https://github.com/facebookexperimental/Robyn/blob/main/demo/demo.R)"
   ]
  },
  {
   "cell_type": "code",
   "execution_count": null,
   "metadata": {},
   "outputs": [],
   "source": [
    "import json\n",
    "# Sample Hyperparameter passed to Robyn\n",
    "hyperparameters = {\n",
    "    \"window_start\": \"2016-11-21\",\n",
    "    \"window_end\": \"2018-08-20\"\n",
    "}\n",
    "\n",
    "train_estimator = sagemaker.estimator.Estimator(model_image_uri,\n",
    "                       role_arn, \n",
    "                       source_dir=\"app/\",\n",
    "                       entry_point=\"train.R\",\n",
    "                       instance_count=1,\n",
    "                       instance_type='ml.m5.xlarge',\n",
    "                       output_path=f\"s3://{bucket}/training_output\",\n",
    "                       sagemaker_session=sage_session,\n",
    "                       environment={ \"SM_HPS\": json.dumps(hyperparameters) },\n",
    "                       hyperparameters=hyperparameters)\n",
    "train_estimator.fit({\n",
    "    \"train\": s3_train_input,\n",
    "    \"holiday\": s3_holiday_input\n",
    "})"
   ]
  },
  {
   "cell_type": "code",
   "execution_count": null,
   "metadata": {},
   "outputs": [],
   "source": []
  }
 ],
 "metadata": {
  "instance_type": "ml.t3.medium",
  "kernelspec": {
   "display_name": "Python 3 (Data Science)",
   "language": "python",
   "name": "python3__SAGEMAKER_INTERNAL__arn:aws:sagemaker:ap-northeast-1:102112518831:image/datascience-1.0"
  },
  "language_info": {
   "codemirror_mode": {
    "name": "ipython",
    "version": 3
   },
   "file_extension": ".py",
   "mimetype": "text/x-python",
   "name": "python",
   "nbconvert_exporter": "python",
   "pygments_lexer": "ipython3",
   "version": "3.7.10"
  }
 },
 "nbformat": 4,
 "nbformat_minor": 4
}
